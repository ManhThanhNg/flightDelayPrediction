{
 "cells": [
  {
   "cell_type": "code",
   "execution_count": 198,
   "outputs": [],
   "source": [
    "import os\n",
    "import sys\n",
    "\n",
    "os.environ['PYSPARK_PYTHON'] = sys.executable\n",
    "os.environ['PYSPARK_DRIVER_PYTHON'] = sys.executable\n",
    "from pyspark.sql import SparkSession\n",
    "from pyspark.sql.types import StructType, StructField, StringType, IntegerType, TimestampType, FloatType\n",
    "from pyspark.sql.functions import *\n",
    "spark = (SparkSession.builder\n",
    "         .appName(\"Realtime Flight\")\n",
    "         # .master(\"spark://127.0.0.1:7077\")\n",
    "         .master(\"local\")\n",
    "         # .config(\"spark.jars.packages\", \"org.apache.spark:spark-sql-kafka-0-10_2.12:3.5.0\")\n",
    "         .config('spark.jars', 'D:\\\\Coding\\\\FlightDelaysPredict\\\\postgresql-42.7.1.jar')  # add postgresql driver\n",
    "         .config(\"spark.sql.adaptive.enabled\", \"false\")\n",
    "         .getOrCreate())"
   ],
   "metadata": {
    "collapsed": false
   }
  },
  {
   "cell_type": "code",
   "execution_count": 199,
   "outputs": [],
   "source": [
    "spark.sparkContext.setLogLevel(\"WARN\")"
   ],
   "metadata": {
    "collapsed": false
   }
  },
  {
   "cell_type": "code",
   "execution_count": 200,
   "outputs": [],
   "source": [
    "flight_schema = StructType([\n",
    "    StructField(\"Year\", IntegerType(), True),\n",
    "    StructField(\"Month\", IntegerType(), True),\n",
    "    StructField(\"DayofMonth\", IntegerType(), True),\n",
    "    StructField(\"DayOfWeek\", IntegerType(), True),\n",
    "    StructField(\"DepTime\", FloatType(), True),\n",
    "    StructField(\"CRSDepTime\", IntegerType(), True),\n",
    "    StructField(\"ArrTime\", FloatType(), True),\n",
    "    StructField(\"CRSArrTime\", IntegerType(), True),\n",
    "    StructField(\"UniqueCarrier\", StringType(), True),\n",
    "    StructField(\"FlightNum\", IntegerType(), True),\n",
    "    StructField(\"TailNum\", StringType(), True),\n",
    "    StructField(\"ActualElapsedTime\", FloatType(), True),\n",
    "    StructField(\"CRSElapsedTime\", FloatType(), True),\n",
    "    StructField(\"AirTime\", FloatType(), True),\n",
    "    StructField(\"ArrDelay\", FloatType(), True),\n",
    "    StructField(\"DepDelay\", FloatType(), True),\n",
    "    StructField(\"Origin\", StringType(), True),\n",
    "    StructField(\"Dest\", StringType(), True),\n",
    "    StructField(\"Distance\", IntegerType(), True),\n",
    "    StructField(\"TaxiIn\", FloatType(), True),\n",
    "    StructField(\"TaxiOut\", FloatType(), True),\n",
    "    StructField(\"Cancelled\", IntegerType(), True),\n",
    "    StructField(\"CancellationCode\", StringType(), True),\n",
    "    StructField(\"Diverted\", IntegerType(), True),\n",
    "    StructField(\"CarrierDelay\", FloatType(), True),\n",
    "    StructField(\"WeatherDelay\", FloatType(), True),\n",
    "    StructField(\"NASDelay\", FloatType(), True),\n",
    "    StructField(\"SecurityDelay\", FloatType(), True),\n",
    "    StructField(\"LateAircraftDelay\", FloatType(), True)\n",
    "])"
   ],
   "metadata": {
    "collapsed": false
   }
  },
  {
   "cell_type": "code",
   "execution_count": 201,
   "outputs": [
    {
     "name": "stdout",
     "output_type": "stream",
     "text": [
      "+----+-----+----------+---------+-------+----------+-------+----------+-------------+---------+-------+-----------------+--------------+-------+--------+--------+------+----+--------+------+-------+---------+----------------+--------+------------+------------+--------+-------------+-----------------+\n",
      "|year|month|dayofmonth|dayofweek|deptime|crsdeptime|arrtime|crsarrtime|uniquecarrier|flightnum|tailnum|actualelapsedtime|crselapsedtime|airtime|arrdelay|depdelay|origin|dest|distance|taxiin|taxiout|cancelled|cancellationcode|diverted|carrierdelay|weatherdelay|nasdelay|securitydelay|lateaircraftdelay|\n",
      "+----+-----+----------+---------+-------+----------+-------+----------+-------------+---------+-------+-----------------+--------------+-------+--------+--------+------+----+--------+------+-------+---------+----------------+--------+------------+------------+--------+-------------+-----------------+\n",
      "|2008|    1|         3|        4| 2003.0|      1955| 2211.0|      2225|           WN|      335| N712SW|            128.0|         150.0|  116.0|   -14.0|     8.0|   IAD| TPA|     810|   4.0|    8.0|        0|               N|       0|         NaN|         NaN|     NaN|          NaN|              NaN|\n",
      "|2008|    1|         3|        4|  754.0|       735| 1002.0|      1000|           WN|     3231| N772SW|            128.0|         145.0|  113.0|     2.0|    19.0|   IAD| TPA|     810|   5.0|   10.0|        0|               N|       0|         NaN|         NaN|     NaN|          NaN|              NaN|\n",
      "|2008|    1|         3|        4|  628.0|       620|  804.0|       750|           WN|      448| N428WN|             96.0|          90.0|   76.0|    14.0|     8.0|   IND| BWI|     515|   3.0|   17.0|        0|               N|       0|         NaN|         NaN|     NaN|          NaN|              NaN|\n",
      "|2008|    1|         3|        4| 1829.0|      1755| 1959.0|      1925|           WN|     3920| N464WN|             90.0|          90.0|   77.0|    34.0|    34.0|   IND| BWI|     515|   3.0|   10.0|        0|               N|       0|         2.0|         0.0|     0.0|          0.0|             32.0|\n",
      "|2008|    1|         3|        4| 1940.0|      1915| 2121.0|      2110|           WN|      378| N726SW|            101.0|         115.0|   87.0|    11.0|    25.0|   IND| JAX|     688|   4.0|   10.0|        0|               N|       0|         NaN|         NaN|     NaN|          NaN|              NaN|\n",
      "+----+-----+----------+---------+-------+----------+-------+----------+-------------+---------+-------+-----------------+--------------+-------+--------+--------+------+----+--------+------+-------+---------+----------------+--------+------------+------------+--------+-------------+-----------------+\n",
      "only showing top 5 rows\n",
      "\n"
     ]
    }
   ],
   "source": [
    "# Read from PostgreSQL\n",
    "df = spark.read.format(\"jdbc\").option(\"url\", \"jdbc:postgresql://mthanh.ddns.net:5432/flight\").option(\"dbtable\", \"delayedflight\").option(\"user\", \"postgres\").option(\"password\", \"postgres\").option(\"driver\", \"org.postgresql.Driver\").load()\n",
    "df.show(5)"
   ],
   "metadata": {
    "collapsed": false
   }
  },
  {
   "cell_type": "code",
   "execution_count": 202,
   "outputs": [
    {
     "name": "stdout",
     "output_type": "stream",
     "text": [
      "1116\n",
      "[('year', 'int'), ('month', 'int'), ('dayofmonth', 'int'), ('dayofweek', 'int'), ('deptime', 'double'), ('crsdeptime', 'int'), ('arrtime', 'double'), ('crsarrtime', 'int'), ('uniquecarrier', 'string'), ('flightnum', 'int'), ('tailnum', 'string'), ('actualelapsedtime', 'double'), ('crselapsedtime', 'double'), ('airtime', 'double'), ('arrdelay', 'double'), ('depdelay', 'double'), ('origin', 'string'), ('dest', 'string'), ('distance', 'int'), ('taxiin', 'double'), ('taxiout', 'double'), ('cancelled', 'int'), ('cancellationcode', 'string'), ('diverted', 'int'), ('carrierdelay', 'double'), ('weatherdelay', 'double'), ('nasdelay', 'double'), ('securitydelay', 'double'), ('lateaircraftdelay', 'double')]\n",
      "Row(year=2008, month=1, dayofmonth=3, dayofweek=4, deptime=2003.0, crsdeptime=1955, arrtime=2211.0, crsarrtime=2225, uniquecarrier='WN', flightnum=335, tailnum='N712SW', actualelapsedtime=128.0, crselapsedtime=150.0, airtime=116.0, arrdelay=-14.0, depdelay=8.0, origin='IAD', dest='TPA', distance=810, taxiin=4.0, taxiout=8.0, cancelled=0, cancellationcode='N', diverted=0, carrierdelay=nan, weatherdelay=nan, nasdelay=nan, securitydelay=nan, lateaircraftdelay=nan)\n"
     ]
    }
   ],
   "source": [
    "print(df.count())\n",
    "print(df.dtypes)\n",
    "print(df.head())"
   ],
   "metadata": {
    "collapsed": false
   }
  },
  {
   "cell_type": "code",
   "execution_count": 203,
   "outputs": [
    {
     "name": "stdout",
     "output_type": "stream",
     "text": [
      "+----+-----+----------+----------+----------+-------------+------+----+--------+------+\n",
      "|year|month|dayofmonth|crsdeptime|crsarrtime|uniquecarrier|origin|dest|distance|status|\n",
      "+----+-----+----------+----------+----------+-------------+------+----+--------+------+\n",
      "|2008|    1|         3|      1955|      2225|           WN|   IAD| TPA|     810|     0|\n",
      "|2008|    1|         3|       735|      1000|           WN|   IAD| TPA|     810|     0|\n",
      "|2008|    1|         3|       620|       750|           WN|   IND| BWI|     515|     0|\n",
      "|2008|    1|         3|      1755|      1925|           WN|   IND| BWI|     515|     0|\n",
      "|2008|    1|         3|      1915|      2110|           WN|   IND| JAX|     688|     0|\n",
      "|2008|    1|         3|      1830|      1940|           WN|   IND| LAS|    1591|     0|\n",
      "|2008|    1|         3|       700|       915|           WN|   IND| MCO|     828|     0|\n",
      "|2008|    1|         3|      1510|      1725|           WN|   IND| MCO|     828|     0|\n",
      "|2008|    1|         3|      1020|      1010|           WN|   IND| MDW|     162|     0|\n",
      "|2008|    1|         3|      1425|      1625|           WN|   IND| PHX|    1489|     0|\n",
      "|2008|    1|         3|       745|       955|           WN|   IND| PHX|    1489|     1|\n",
      "|2008|    1|         3|      1255|      1510|           WN|   IND| TPA|     838|     0|\n",
      "|2008|    1|         3|      1325|      1435|           WN|   ISP| BWI|     220|     0|\n",
      "|2008|    1|         3|      1625|      1735|           WN|   ISP| BWI|     220|     0|\n",
      "|2008|    1|         3|      1840|      1950|           WN|   ISP| BWI|     220|     0|\n",
      "|2008|    1|         3|      1030|      1140|           WN|   ISP| BWI|     220|     0|\n",
      "|2008|    1|         3|      1455|      1605|           WN|   ISP| BWI|     220|     0|\n",
      "|2008|    1|         3|      1255|      1610|           WN|   ISP| FLL|    1093|     0|\n",
      "|2008|    1|         3|      1925|      2235|           WN|   ISP| FLL|    1093|     0|\n",
      "|2008|    1|         3|      1945|      2230|           WN|   ISP| MCO|     972|     0|\n",
      "+----+-----+----------+----------+----------+-------------+------+----+--------+------+\n",
      "only showing top 20 rows\n",
      "\n"
     ]
    },
    {
     "data": {
      "text/plain": "1116"
     },
     "execution_count": 203,
     "metadata": {},
     "output_type": "execute_result"
    }
   ],
   "source": [
    "# add a new column \"status\" to the dataframe:\n",
    "# if arrdelay < -15 or depdelay < -15 status = 1 (delayed),\n",
    "# if divert = 1 or cancelled = 1 status = 2 (diverted or cancelled),\n",
    "# else status = 0 (on time)\n",
    "df = df.withColumn(\"status\", when((df.diverted == 1) | (df.cancelled == 1), 3).when((df.arrdelay <= -60) | (df.depdelay <= -60), 2).when((df.arrdelay <= -15) | (df.depdelay <= -15), 1).otherwise(0))\n",
    "\n",
    "# drop columns just leave the columns: Year, Month, DayofMonth, CRSDepTime, CRSArrTime, UniqueCarrier, FlightNum, ArrDelay, DepDelay, Origin, Dest, Distance\n",
    "df = df.drop(\"DayOfWeek\", \"DepTime\", \"ArrTime\", \"TailNum\", \"ActualElapsedTime\", \"CRSElapsedTime\", \"AirTime\", \"TaxiIn\", \"TaxiOut\", \"Cancelled\", \"CancellationCode\", \"Diverted\", \"CarrierDelay\", \"WeatherDelay\", \"NASDelay\", \"SecurityDelay\", \"LateAircraftDelay\", \"FlightNum\", \"arrdelay\", \"depdelay\")\n",
    "df = df.dropna()\n",
    "df.show()\n",
    "df.count()"
   ],
   "metadata": {
    "collapsed": false
   }
  },
  {
   "cell_type": "code",
   "execution_count": 204,
   "outputs": [
    {
     "name": "stdout",
     "output_type": "stream",
     "text": [
      "+-------------+--------------+\n",
      "|       Column|Missing Values|\n",
      "+-------------+--------------+\n",
      "|         year|             0|\n",
      "|        month|             0|\n",
      "|   dayofmonth|             0|\n",
      "|   crsdeptime|             0|\n",
      "|   crsarrtime|             0|\n",
      "|uniquecarrier|             0|\n",
      "|       origin|             0|\n",
      "|         dest|             0|\n",
      "|     distance|             0|\n",
      "|       status|             0|\n",
      "+-------------+--------------+\n",
      "\n"
     ]
    }
   ],
   "source": [
    "# count missing values\n",
    "column_name = df.columns\n",
    "# missing_values_counts = [df.where(col(name).isNull()).count() for name in column_name]\n",
    "# create a new dataframe to store the missing values counts\n",
    "spark.createDataFrame([(name, df.where(col(name).isNull()).count()) for name in column_name], [\"Column\", \"Missing Values\"]).show()"
   ],
   "metadata": {
    "collapsed": false
   }
  },
  {
   "cell_type": "code",
   "execution_count": 205,
   "outputs": [
    {
     "name": "stdout",
     "output_type": "stream",
     "text": [
      "+----+-----+----------+----------+----------+-------------+------+----+--------+------+-------------------+------------+----------+\n",
      "|year|month|dayofmonth|crsdeptime|crsarrtime|uniquecarrier|origin|dest|distance|status|uniquecarrier_index|origin_index|dest_index|\n",
      "+----+-----+----------+----------+----------+-------------+------+----+--------+------+-------------------+------------+----------+\n",
      "|2008|    1|         3|      1955|      2225|           WN|   IAD| TPA|     810|     0|                0.0|        23.0|      14.0|\n",
      "|2008|    1|         3|       735|      1000|           WN|   IAD| TPA|     810|     0|                0.0|        23.0|      14.0|\n",
      "|2008|    1|         3|       620|       750|           WN|   IND| BWI|     515|     0|                0.0|        16.0|       4.0|\n",
      "|2008|    1|         3|      1755|      1925|           WN|   IND| BWI|     515|     0|                0.0|        16.0|       4.0|\n",
      "|2008|    1|         3|      1915|      2110|           WN|   IND| JAX|     688|     0|                0.0|        16.0|      54.0|\n",
      "+----+-----+----------+----------+----------+-------------+------+----+--------+------+-------------------+------------+----------+\n",
      "only showing top 5 rows\n",
      "\n"
     ]
    }
   ],
   "source": [
    "# index uniquecarrier, origin, dest\n",
    "from pyspark.ml.feature import StringIndexer\n",
    "indexer = StringIndexer(inputCol=\"uniquecarrier\", outputCol=\"uniquecarrier_index\").fit(df).transform(df)\n",
    "indexer = StringIndexer(inputCol=\"origin\", outputCol=\"origin_index\").fit(indexer).transform(indexer)\n",
    "indexer = StringIndexer(inputCol=\"dest\", outputCol=\"dest_index\").fit(indexer).transform(indexer)\n",
    "indexer.show(5)"
   ],
   "metadata": {
    "collapsed": false
   }
  },
  {
   "cell_type": "code",
   "execution_count": 206,
   "outputs": [
    {
     "name": "stdout",
     "output_type": "stream",
     "text": [
      "+--------------------------------------------------+------+\n",
      "|features                                          |status|\n",
      "+--------------------------------------------------+------+\n",
      "|[2008.0,1.0,3.0,1955.0,2225.0,0.0,23.0,14.0,810.0]|0     |\n",
      "|[2008.0,1.0,3.0,735.0,1000.0,0.0,23.0,14.0,810.0] |0     |\n",
      "|[2008.0,1.0,3.0,620.0,750.0,0.0,16.0,4.0,515.0]   |0     |\n",
      "|[2008.0,1.0,3.0,1755.0,1925.0,0.0,16.0,4.0,515.0] |0     |\n",
      "|[2008.0,1.0,3.0,1915.0,2110.0,0.0,16.0,54.0,688.0]|0     |\n",
      "+--------------------------------------------------+------+\n",
      "only showing top 5 rows\n",
      "\n"
     ]
    },
    {
     "data": {
      "text/plain": "1116"
     },
     "execution_count": 206,
     "metadata": {},
     "output_type": "execute_result"
    }
   ],
   "source": [
    "\n",
    "# aassembling the features\n",
    "from pyspark.ml.feature import VectorAssembler\n",
    "assembler = VectorAssembler(inputCols=[\"year\", \"month\", \"dayofmonth\", \"crsdeptime\", \"crsarrtime\", \"uniquecarrier_index\", \"origin_index\", \"dest_index\", \"distance\"], outputCol=\"features\")\n",
    "\n",
    "# transform the dataframe\n",
    "flight_assembled = assembler.transform(indexer)\n",
    "flight_assembled.select(\"features\",\"status\").show(5, truncate=False)\n",
    "flight_assembled.count()"
   ],
   "metadata": {
    "collapsed": false
   }
  },
  {
   "cell_type": "markdown",
   "source": [
    "First classification model:\n",
    "Decision Trees: offers inherit simplicity and explanablility"
   ],
   "metadata": {
    "collapsed": false
   }
  },
  {
   "cell_type": "code",
   "execution_count": 207,
   "outputs": [
    {
     "name": "stdout",
     "output_type": "stream",
     "text": [
      "Test set is 83.06% of the training set\n"
     ]
    }
   ],
   "source": [
    "flight_train, flight_test = flight_assembled.randomSplit([0.8, 0.2], seed=42)\n",
    "# check the distribution of the status in the training and testing set\n",
    "train_ratio = flight_train.count()/ flight_assembled.count()\n",
    "print(f\"Test set is {train_ratio*100:.2f}% of the training set\")"
   ],
   "metadata": {
    "collapsed": false
   }
  },
  {
   "cell_type": "code",
   "execution_count": 208,
   "outputs": [
    {
     "name": "stdout",
     "output_type": "stream",
     "text": [
      "Correct prediction: 1104 out of 1116\n"
     ]
    }
   ],
   "source": [
    "# create a decision tree model\n",
    "from pyspark.ml.classification import LogisticRegression\n",
    "lr = LogisticRegression(labelCol=\"status\", featuresCol=\"features\", maxIter=10, regParam=0.3, elasticNetParam=0.8) # create a logistic regression model with the label column is \"status\" and the features column is \"features\" with 10 iterations and regularization parameter is 0.3 and elastic net parameter is 0.8\n",
    "lr_model = lr.fit(flight_train) # fit the model with the training set\n",
    "\n",
    "# predict the testing set\n",
    "lr_prediction = lr_model.transform(flight_assembled)\n",
    "# lr_prediction.select(\"status\", \"prediction\").show(5)\n",
    "# count the number of correct predictions\n",
    "correct_prediction = lr_prediction.filter(lr_prediction.status == lr_prediction.prediction).count()\n",
    "total_data = lr_prediction.count()\n",
    "print(f\"Correct prediction: {correct_prediction} out of {total_data}\")"
   ],
   "metadata": {
    "collapsed": false
   }
  },
  {
   "cell_type": "code",
   "execution_count": 209,
   "outputs": [
    {
     "name": "stdout",
     "output_type": "stream",
     "text": [
      "+----+-----+----------+----------+----------+-------------+------+----+--------+------+-------------------+------------+----------+--------------------+--------------------+--------------------+----------+\n",
      "|year|month|dayofmonth|crsdeptime|crsarrtime|uniquecarrier|origin|dest|distance|status|uniquecarrier_index|origin_index|dest_index|            features|       rawPrediction|         probability|prediction|\n",
      "+----+-----+----------+----------+----------+-------------+------+----+--------+------+-------------------+------------+----------+--------------------+--------------------+--------------------+----------+\n",
      "|2008|    1|         3|       745|       955|           WN|   IND| PHX|    1489|     1|                0.0|        16.0|       1.0|[2008.0,1.0,3.0,7...|[4.62497281328427...|[0.99029126213592...|       0.0|\n",
      "|2008|    1|         3|       720|      1020|           WN|   ISP| PBI|    1052|     1|                0.0|        11.0|      52.0|[2008.0,1.0,3.0,7...|[4.62497281328427...|[0.99029126213592...|       0.0|\n",
      "|2008|    1|         3|       640|       955|           WN|   ISP| RSW|    1101|     1|                0.0|        11.0|      47.0|[2008.0,1.0,3.0,6...|[4.62497281328427...|[0.99029126213592...|       0.0|\n",
      "|2008|    1|         3|      1700|      2230|           WN|   LAS| MDW|    1521|     1|                0.0|         1.0|       2.0|[2008.0,1.0,3.0,1...|[4.62497281328427...|[0.99029126213592...|       0.0|\n",
      "|2008|    1|         3|      1540|      1850|           WN|   MDW| PHL|     668|     1|                0.0|         0.0|      17.0|[2008.0,1.0,3.0,1...|[4.62497281328427...|[0.99029126213592...|       0.0|\n",
      "|2008|    1|         3|       620|       800|           WN|   MHT| MDW|     838|     1|                0.0|        10.0|       2.0|[2008.0,1.0,3.0,6...|[4.62497281328427...|[0.99029126213592...|       0.0|\n",
      "|2008|    1|         3|      1310|      1440|           WN|   PHL| BNA|     675|     1|                0.0|         7.0|      15.0|[2008.0,1.0,3.0,1...|[4.62497281328427...|[0.99029126213592...|       0.0|\n",
      "|2008|    1|         3|      2010|      2155|           WN|   PHL| CMH|     405|     1|                0.0|         7.0|      29.0|[2008.0,1.0,3.0,2...|[4.62497281328427...|[0.99029126213592...|       0.0|\n",
      "|2008|    1|         3|      1620|      1745|           WN|   PHL| MDW|     668|     1|                0.0|         7.0|       2.0|[2008.0,1.0,3.0,1...|[4.62497281328427...|[0.99029126213592...|       0.0|\n",
      "|2008|    1|         3|      1045|      1425|           WN|   PHL| PHX|    2075|     1|                0.0|         7.0|       1.0|[2008.0,1.0,3.0,1...|[4.62497281328427...|[0.99029126213592...|       0.0|\n",
      "|2008|    1|         3|      1230|      1655|           WN|   PHX| MDW|    1444|     1|                0.0|         2.0|       2.0|[2008.0,1.0,3.0,1...|[4.62497281328427...|[0.99029126213592...|       0.0|\n",
      "|2008|    1|         3|       835|      1040|           WN|   PHX| PDX|    1009|     1|                0.0|         2.0|      26.0|[2008.0,1.0,3.0,8...|[4.62497281328427...|[0.99029126213592...|       0.0|\n",
      "+----+-----+----------+----------+----------+-------------+------+----+--------+------+-------------------+------------+----------+--------------------+--------------------+--------------------+----------+\n",
      "\n",
      "+----+-----+----------+----------+----------+-------------+------+----+--------+------+-------------------+------------+----------+--------+-------------+-----------+----------+\n",
      "|year|month|dayofmonth|crsdeptime|crsarrtime|uniquecarrier|origin|dest|distance|status|uniquecarrier_index|origin_index|dest_index|features|rawPrediction|probability|prediction|\n",
      "+----+-----+----------+----------+----------+-------------+------+----+--------+------+-------------------+------------+----------+--------+-------------+-----------+----------+\n",
      "+----+-----+----------+----------+----------+-------------+------+----+--------+------+-------------------+------------+----------+--------+-------------+-----------+----------+\n",
      "\n"
     ]
    }
   ],
   "source": [
    "lr_prediction.filter(lr_prediction.status != lr_prediction.prediction).show()\n",
    "# show lr_prediction where status is not equal to prediction and status is not equal to 0\n",
    "lr_prediction.filter((lr_prediction.status == lr_prediction.prediction) & (lr_prediction.status != 0)).show()"
   ],
   "metadata": {
    "collapsed": false
   }
  },
  {
   "cell_type": "code",
   "execution_count": 210,
   "outputs": [
    {
     "name": "stdout",
     "output_type": "stream",
     "text": [
      "+----+-----+----------+----------+----------+-------------+------+----+--------+------+-------------------+------------+----------+--------------------+\n",
      "|year|month|dayofmonth|crsdeptime|crsarrtime|uniquecarrier|origin|dest|distance|status|uniquecarrier_index|origin_index|dest_index|            features|\n",
      "+----+-----+----------+----------+----------+-------------+------+----+--------+------+-------------------+------------+----------+--------------------+\n",
      "|2008|    1|         3|      1310|      1440|           WN|   PHL| BNA|     675|     1|                0.0|         7.0|      15.0|[2008.0,1.0,3.0,1...|\n",
      "|2008|    1|         3|      1620|      1745|           WN|   PHL| MDW|     668|     1|                0.0|         7.0|       2.0|[2008.0,1.0,3.0,1...|\n",
      "|2008|    1|         3|      1700|      2230|           WN|   LAS| MDW|    1521|     1|                0.0|         1.0|       2.0|[2008.0,1.0,3.0,1...|\n",
      "+----+-----+----------+----------+----------+-------------+------+----+--------+------+-------------------+------------+----------+--------------------+\n",
      "\n"
     ]
    }
   ],
   "source": [
    "flight_test.filter(flight_train.status == 1).show()"
   ],
   "metadata": {
    "collapsed": false
   }
  },
  {
   "cell_type": "code",
   "execution_count": 213,
   "outputs": [],
   "source": [
    "# save the model, check if models folder exists or not. If not, create it. If yes, delete the folder and create a new one\n",
    "import shutil\n",
    "if os.path.exists(\"D:\\\\Coding\\\\FlightDelaysPredict\\\\models\\\\logistic_regression_model\"):\n",
    "    shutil.rmtree(\"D:\\\\Coding\\\\FlightDelaysPredict\\\\models\\\\logistic_regression_model\")\n",
    "lr_model.save(\"D:\\\\Coding\\\\FlightDelaysPredict\\\\models\\\\logistic_regression_model\")"
   ],
   "metadata": {
    "collapsed": false
   }
  },
  {
   "cell_type": "code",
   "execution_count": null,
   "outputs": [],
   "source": [],
   "metadata": {
    "collapsed": false
   }
  }
 ],
 "metadata": {
  "kernelspec": {
   "display_name": "Python 3",
   "language": "python",
   "name": "python3"
  },
  "language_info": {
   "codemirror_mode": {
    "name": "ipython",
    "version": 2
   },
   "file_extension": ".py",
   "mimetype": "text/x-python",
   "name": "python",
   "nbconvert_exporter": "python",
   "pygments_lexer": "ipython2",
   "version": "2.7.6"
  }
 },
 "nbformat": 4,
 "nbformat_minor": 0
}
